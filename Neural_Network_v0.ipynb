{
 "cells": [
  {
   "cell_type": "code",
   "execution_count": 110,
   "metadata": {},
   "outputs": [],
   "source": [
    "# Инициализируем библиотеки:\n",
    "import numpy\n",
    "import scipy.special\n",
    "\n",
    "# Определение класса НС\n",
    "class neuralNetwork:\n",
    "\n",
    "    # инициализируем НС\n",
    "    def __init__(self, inputnodes, hiddennodes, outputnodes, learningrate):\n",
    "        \n",
    "        # задание количества узлов во входном, скрытом и выходном слое\n",
    "        self.inodes = inputnodes\n",
    "        self.hnodes = hiddennodes\n",
    "        self.onodes = outputnodes\n",
    "        \n",
    "        # описание матрицы весовых коэффициентов и весов между слоями\n",
    "        # i - внутренний; h - скрытый; o - выходной.\n",
    "        self.wih = numpy.random.normal(0.0,pow(self.hnodes,-0,5),(self.hnodes,self.inodes))\n",
    "        self.who = numpy.random.normal(0.0,pow(self.onodes,-0,5),(self.onodes,self.hnodes))\n",
    "        \n",
    "        # коэффициент обучения\n",
    "        self.learn = learningrate\n",
    "        pass\n",
    "        \n",
    "        # задание функции активации\n",
    "        self.activation_function = lambda x: scipy.special.expit(x)\n",
    "        \n",
    "    # тренировка нейронной сети\n",
    "    def train(self, inputs_list, targets_list):\n",
    "        \n",
    "        # можно ли вызвать отсюда метод erry(self, inputs_list) ?\n",
    "                \n",
    "        # преобразовать список входных значений в двумерный массив (зачем?)\n",
    "        inputs = numpy.array(inputs_list,ndmin=2).T   # зачем транспонировать ?\n",
    "        \n",
    "        # преобразовать список тренировочной выборки в двумерный массив (зачем?)\n",
    "        targets = numpy.array(targets_list,ndmin=2).T # зачем транспонировать ?\n",
    "        \n",
    "        # взвешенная сумма для скрытого слоя\n",
    "        hidden_wsum = numpy.dot(self.wih, inputs)\n",
    "\n",
    "        # выходные сигналы для скрытого слоя\n",
    "        hidden_outputs = self.activation_function(hidden_wsum)\n",
    "\n",
    "        # взвешенная сумма для последнего слоя\n",
    "        final_wsum = numpy.dot(self.who, hidden_outputs)\n",
    "\n",
    "        # выходные сигналы для последнего слоя\n",
    "        final_outputs = self.activation_function(final_wsum)\n",
    "        \n",
    "        # рассчитать ошибку сети\n",
    "        output_errors = targets - final_outputs\n",
    "        \n",
    "        # ошибки скрытого слоя сети (обратное распространение)\n",
    "        hidden_errors = numpy.dot(self.who.T, output_errors)\n",
    "        \n",
    "        # обновить весовые коэффициенты связей между скрытым и выходным слоями\n",
    "        self.who += self.learn*numpy.dot(output_errors*final_outputs*(1.0 - final_outputs),numpy.transpose(hidden_outputs))\n",
    "        \n",
    "        # обновить весовые коэффициенты связей между входным и скрытым слоями\n",
    "        self.wih += self.learn*numpy.dot(hidden_errors*hidden_outputs*(1.0 - hidden_outputs),numpy.transpose(inputs))\n",
    "        \n",
    "        pass\n",
    "    \n",
    "    # опрос нейронной сети\n",
    "    def qerry(self, inputs_list):\n",
    "        # преобразовать список входных значений в двумерный массив\n",
    "        inputs = numpy.array(inputs_list,ndmin=2).T\n",
    "        \n",
    "        # взвешенная сумма скрытого слоя\n",
    "        hidden_wsum = numpy.dot(self.wih, inputs)\n",
    "\n",
    "        # выходные сигналы скрытого слоя\n",
    "        hidden_outputs = self.activation_function(hidden_wsum)\n",
    "\n",
    "        # взвешенная сумма последнего слоя\n",
    "        final_wsum = numpy.dot(self.who, hidden_outputs)\n",
    "\n",
    "        # рассчитать выходные сигналы для последнего слоя\n",
    "        final_outputs = self.activation_function(final_wsum)\n",
    "        \n",
    "        return final_outputs"
   ]
  },
  {
   "cell_type": "code",
   "execution_count": 111,
   "metadata": {
    "scrolled": true
   },
   "outputs": [],
   "source": [
    "# количество входных, скрытых и выходных узлов\n",
    "input_nodes = 784\n",
    "hidden_nodes = 100\n",
    "output_nodes = 10\n",
    "\n",
    "# коэффициет обучения\n",
    "learning_rate = 0.3\n",
    "\n",
    "# создать экземпляр нейронной сети\n",
    "n = neuralNetwork(input_nodes, hidden_nodes, output_nodes, learning_rate)\n",
    "\n",
    "# загрузить в список тестовый набор данных MNIST из SCV-файла\n",
    "training_data_file = open(\"MNIST/mnist_train_60k.csv\",'r')\n",
    "training_data_list = training_data_file.readlines()\n",
    "training_data_file.close()\n",
    "\n",
    "# тренировка нейронной сети\n",
    "\n",
    "# перебрать все записи в тренировочном наботе данных\n",
    "for record in training_data_list:\n",
    "    # получить список значений, используя символ ','\n",
    "    all_values = record.split(',')\n",
    "    # масштабировать и сместить исходные значения \n",
    "    #(нормировать в диапазоне 0.01..0.99)\n",
    "    inputs = (numpy.asfarray(all_values[1:])*0.99/255.0)+0.01\n",
    "    # подготовить целевые выходные значения (все равны 0,01 за исключением\n",
    "    # желаемого маркерного значения 0.99)\n",
    "    targets = numpy.zeros(output_nodes)+0.01\n",
    "    # all_values[0] - целевое маркерное значение для данной записи\n",
    "    targets[int(all_values[0])] = 0.99\n",
    "    n.train(inputs,targets)\n",
    "    pass"
   ]
  },
  {
   "cell_type": "code",
   "execution_count": 122,
   "metadata": {},
   "outputs": [
    {
     "name": "stdout",
     "output_type": "stream",
     "text": [
      "9\n",
      "[[0.000078]\n",
      " [0.000605]\n",
      " [0.002089]\n",
      " [0.000649]\n",
      " [0.073230]\n",
      " [0.001819]\n",
      " [0.000494]\n",
      " [0.004545]\n",
      " [0.004040]\n",
      " [0.976022]]\n"
     ]
    },
    {
     "data": {
      "image/png": "[encoded data removed]",
      "text/plain": [
       "<Figure size 432x288 with 1 Axes>"
      ]
     },
     "metadata": {
      "needs_background": "light"
     },
     "output_type": "display_data"
    }
   ],
   "source": [
    "# загрузить в список тестовый набор данных MNIST из SCV-файла\n",
    "float_formatter = \"{:.6f}\".format\n",
    "numpy.set_printoptions(formatter={'float_kind':float_formatter})\n",
    "\n",
    "test_data_file = open(\"MNIST/mnist_test_10.csv\",'r')\n",
    "test_data_list = test_data_file.readlines()\n",
    "test_data_file.close()\n",
    "\n",
    "Number = 9\n",
    "all_values = test_data_list[Number].split(',')\n",
    "print(all_values[0])\n",
    "\n",
    "import matplotlib.pyplot\n",
    "%matplotlib inline\n",
    "image_array = numpy.asfarray(all_values[1:]).reshape((28,28))\n",
    "matplotlib.pyplot.imshow(image_array, cmap='Greys', interpolation = 'None')\n",
    "\n",
    "inputs = (numpy.asfarray(all_values[1:])/255.0*0.99)+0.01\n",
    "outputs = n.qerry(inputs)\n",
    "print(outputs)"
   ]
  },
  {
   "cell_type": "code",
   "execution_count": 124,
   "metadata": {},
   "outputs": [
    {
     "name": "stderr",
     "output_type": "stream",
     "text": [
      "ЌҐ г¤ Ґвбп ­ ©вЁ гЄ § ­­л© д ©«.\n"
     ]
    }
   ],
   "source": []
  }
 ],
 "metadata": {
  "kernelspec": {
   "display_name": "Python 3 (ipykernel)",
   "language": "python",
   "name": "python3"
  },
  "language_info": {
   "codemirror_mode": {
    "name": "ipython",
    "version": 3
   },
   "file_extension": ".py",
   "mimetype": "text/x-python",
   "name": "python",
   "nbconvert_exporter": "python",
   "pygments_lexer": "ipython3",
   "version": "3.8.7"
  },
  "varInspector": {
   "cols": {
    "lenName": 16,
    "lenType": 16,
    "lenVar": 40
   },
   "kernels_config": {
    "python": {
     "delete_cmd_postfix": "",
     "delete_cmd_prefix": "del ",
     "library": "var_list.py",
     "varRefreshCmd": "print(var_dic_list())"
    },
    "r": {
     "delete_cmd_postfix": ") ",
     "delete_cmd_prefix": "rm(",
     "library": "var_list.r",
     "varRefreshCmd": "cat(var_dic_list()) "
    }
   },
   "oldHeight": 430.852364,
   "position": {
    "height": "502.841px",
    "left": "846.679px",
    "right": "20px",
    "top": "69.8665px",
    "width": "612.94px"
   },
   "types_to_exclude": [
    "module",
    "function",
    "builtin_function_or_method",
    "instance",
    "_Feature"
   ],
   "varInspector_section_display": "block",
   "window_display": false
  }
 },
 "nbformat": 4,
 "nbformat_minor": 1
}
